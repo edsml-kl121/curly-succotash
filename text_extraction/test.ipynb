{
 "cells": [
  {
   "cell_type": "code",
   "execution_count": 102,
   "metadata": {},
   "outputs": [
    {
     "name": "stdout",
     "output_type": "stream",
     "text": [
      "หมวดที่  2 \n",
      "4\n",
      "หมวดที่  3 \n",
      "6\n",
      "หมวดที่  4 \n",
      "6\n",
      "หมวดที่  5 \n",
      "2\n",
      "หมวดที่  6 \n",
      "20\n",
      "หมวดที่  8  \n",
      "9\n",
      "หมวดที่  9 \n",
      "13\n",
      "หมวดที่  10 \n",
      "41\n",
      "หมวดที่  1 1  \n",
      "10\n"
     ]
    }
   ],
   "source": [
    "import pandas as pd\n",
    "import re\n",
    "\n",
    "# Function to chunk text with overlap\n",
    "def chunk_text(text, chunk_size, overlap):\n",
    "    return [text[i:i+chunk_size] for i in range(0, len(text), chunk_size - overlap)]\n",
    "\n",
    "metadata = pd.read_csv(\"extracted_data/main_doc_metadata.csv\")\n",
    "\n",
    "# print(metadata)\n",
    "titles_simple_format = [\n",
    "  \"หมวดที่  2 \",\n",
    "  \"หมวดที่  3 \",\n",
    "  \"หมวดที่  4 \",\n",
    "  \"หมวดที่  5 \",\n",
    "  \"หมวดที่  6 \",\n",
    "  \"หมวดที่  8  \",\n",
    "  \"หมวดที่  9 \",\n",
    "  \"หมวดที่  10 \",\n",
    "  \"หมวดที่  1 1  \"\n",
    "]\n",
    "\n",
    "titles_complex_format = [\n",
    "  \"หมวดที่  1 \",\n",
    "  \"หมวดที่  7 \",\n",
    "]\n",
    "\n",
    "data = []\n",
    "for index, row in metadata.iterrows():\n",
    "    if row[\"Section\"] in titles_simple_format:\n",
    "        print(row['Section'])\n",
    "        chunks = chunk_text(row['Text'], 500, 100)\n",
    "        print(len(chunks))\n",
    "        for chunk in chunks:\n",
    "            data.append([row['Section'], row['Description'], chunk])\n",
    "\n",
    "\n",
    "def extract_sections_2(text):\n",
    "    # Extract Section 1\n",
    "    start_part_1 = text.find(\"ข้อ  1 .\")\n",
    "    end_part_1 = text.find(\"-2-\", start_part_1)\n",
    "    part_1 = text[start_part_1:end_part_1]\n",
    "\n",
    "    # Extract Introduction and Section 2\n",
    "    end_introduction = start_part_1\n",
    "    introduction = text[:end_introduction]\n",
    "\n",
    "    start_part_2 = text.find(\"ข้อ  2 .\")\n",
    "    end_part_2 = text.find(\"-6-\", start_part_2)\n",
    "    part_2 = text[start_part_2:end_part_2]\n",
    "\n",
    "    return introduction, part_1, part_2\n",
    "\n",
    "def extract_sections_7(text, num_parts):\n",
    "    parts = []\n",
    "\n",
    "    for i in range(1, num_parts + 1):\n",
    "        start_marker = f\"ข้อ  {i} .\"\n",
    "        end_marker = f\"ข้อ  {i+1} .\" if i < num_parts else None  # The end marker for the last part is None\n",
    "\n",
    "        start = text.find(start_marker)\n",
    "        end = text.find(end_marker, start) if end_marker else len(text)\n",
    "\n",
    "        part = text[start:end].strip()  # Remove any leading/trailing whitespace\n",
    "        parts.append(part)\n",
    "\n",
    "    return parts\n",
    "def process_section_7_part_3(text):\n",
    "    pattern = r'(ตักเตือนด้วยวาจา)(.*?)(ตักเตือนเป็นหนังสือ)(.*?)(ตัดเงินรางวัลพิเศษประจาปี)(.*?)(เลิกจ้าง)(.*)'\n",
    "\n",
    "    matches = re.search(pattern, text, re.DOTALL)\n",
    "    action_authorer = \"\"\n",
    "    if matches:\n",
    "        for i in range(1, 8, 2):\n",
    "            action = matches.group(i).strip()\n",
    "            authority = matches.group(i + 1).strip()\n",
    "            action_authorer += f\"\\n action to authorer pair: \\n ระดับโทษทางวินัย: {action} - ผู้มีอ านาจหน้าที่ลงโทษ: {authority}\\n\"\n",
    "            # print(f\"Action: {action} - Authorizor: {authority}\\n\")\n",
    "    intro_sentence = \"\"\"ข้อ  3 . อานาจหน้าที่ในการลงโทษทางวินัย  \n",
    "            ให้ผู้บังคับบัญชาตามสายงานมีสิทธิและอานาจหน้าที่ในการลงโทษทางวินัยดังนี้\"\"\"\n",
    "    # print(intro_sentence + action_authorer)\n",
    "    return intro_sentence + action_authorer\n",
    "\n",
    "\n",
    "\n",
    "# data = []\n",
    "for index, row in metadata.iterrows():\n",
    "    if row[\"Section\"] in titles_complex_format:\n",
    "        if row[\"Section\"] == titles_complex_format[0]:\n",
    "            introduction, part_1, part_2 = extract_sections_2(row['Text'])\n",
    "            chunks = chunk_text(introduction + part_2, 500, 100)\n",
    "            for chunk in chunks:\n",
    "                data.append([row['Section'], row['Description'], chunk])\n",
    "        elif row[\"Section\"] == titles_complex_format[1]:\n",
    "            part_1, part_2, part_3, part_4, part_5 = extract_sections_7(row['Text'], 5)\n",
    "            revised_pattern_with_space = r'(\\d \\.\\d\\.\\d{1,2} ?\\d{0,2})\\s*(.*?)ตั้งแต่(.*?)จนถึง(.*?)(?=\\d \\.\\d\\.\\d{1,2} ?\\d{0,2}|$)'\n",
    "            replacement = r'\\1\\nวินัย: \\2\\nระดับโทษ: ตั้งแต่\\3จนถึง\\4\\n'\n",
    "            part_2_new = re.sub(revised_pattern_with_space, replacement, part_2, flags=re.DOTALL)\n",
    "            chunks = chunk_text(part_1 + \"\\n\" + part_2_new + \"\\n\" + process_section_7_part_3(part_3) + \"\\n\" + part_4 +\"\\n\" +  part_5, 500, 100)\n",
    "            \n",
    "            for chunk in chunks:\n",
    "                data.append([row['Section'], row['Description'], chunk])\n",
    "\n",
    "final_df = pd.DataFrame(data, columns=['Section', 'Description', \"chunk\"])\n",
    "\n",
    "final_df.to_csv('extracted_data/main_doc_chunks.csv', index=False)\n",
    "            "
   ]
  },
  {
   "cell_type": "code",
   "execution_count": 94,
   "metadata": {},
   "outputs": [
    {
     "name": "stdout",
     "output_type": "stream",
     "text": [
      "ข้อ  3 . อานาจหน้าที่ในการลงโทษทางวินัย  \n",
      "          ให้ผู้บังคับบัญชาตามสายงานมีสิทธิและอานาจหน้าที่ในการลงโทษทางวินัยดังนี้   \n",
      " \n",
      "ระดับโทษทางวินัยผู้มีอานาจหน้าที่ลงโทษ  \n",
      "ตักเตือนด้วยวาจาผู้บังคับบัญชาโดยตรงตั้งแต่ระดับผู้จัดการส่วนขึ้นไป  \n",
      "ตักเตือนเป็นหนังสือผู้บังคับบัญชาโดยตรงตั้งแต่ระดับผู้อานวยการฝ่ายขึ้นไป  \n",
      "ตัดเงินรางวัลพิเศษประจาปี   \n",
      " ผู้บังคับบัญชาโดยตรงตั้งแต่ระดับผู้อานวยการฝ่ายขึ้นไป  \n",
      "โดยได้รับความเห็นชอบจากกรรมการผู้จัดการใหญ่  \n",
      "เลิกจ้างกรรมการผู้จัดการใหญ่  \n",
      " \n",
      " การลงโทษทางวินัยตั้งแต่ตัดเงินรางวัลพิเศษประจาปีถึงเลิกจ้างนั้นผู้มีอานาจหน้าที่ลงโทษอาจแต่งตั้ง\n",
      "คณะกรรมการเพื่อสอบสวนข้อเท็จจริงก่อนพิจารณาลงโทษทางวินัยได้  -17-\n"
     ]
    }
   ],
   "source": [
    "# Use regex to reformat the text\n",
    "import re\n",
    "reformatted_text = re.sub(r'(\\d+\\.)\\s*(ระดับโทษทางวินัย:.*?)\\n', r'\\1 \\2 -', part_3)\n",
    "\n",
    "print(reformatted_text)"
   ]
  },
  {
   "cell_type": "code",
   "execution_count": 95,
   "metadata": {},
   "outputs": [
    {
     "data": {
      "text/plain": [
       "'ข้อ  3 . อานาจหน้าที่ในการลงโทษทางวินัย  \\n          ให้ผู้บังคับบัญชาตามสายงานมีสิทธิและอานาจหน้าที่ในการลงโทษทางวินัยดังนี้   \\n \\nระดับโทษทางวินัยผู้มีอานาจหน้าที่ลงโทษ  \\nตักเตือนด้วยวาจาผู้บังคับบัญชาโดยตรงตั้งแต่ระดับผู้จัดการส่วนขึ้นไป  \\nตักเตือนเป็นหนังสือผู้บังคับบัญชาโดยตรงตั้งแต่ระดับผู้อานวยการฝ่ายขึ้นไป  \\nตัดเงินรางวัลพิเศษประจาปี   \\n ผู้บังคับบัญชาโดยตรงตั้งแต่ระดับผู้อานวยการฝ่ายขึ้นไป  \\nโดยได้รับความเห็นชอบจากกรรมการผู้จัดการใหญ่  \\nเลิกจ้างกรรมการผู้จัดการใหญ่  \\n \\n การลงโทษทางวินัยตั้งแต่ตัดเงินรางวัลพิเศษประจาปีถึงเลิกจ้างนั้นผู้มีอานาจหน้าที่ลงโทษอาจแต่งตั้ง\\nคณะกรรมการเพื่อสอบสวนข้อเท็จจริงก่อนพิจารณาลงโทษทางวินัยได้  -17-'"
      ]
     },
     "execution_count": 95,
     "metadata": {},
     "output_type": "execute_result"
    }
   ],
   "source": [
    "part_3"
   ]
  },
  {
   "cell_type": "code",
   "execution_count": 96,
   "metadata": {},
   "outputs": [
    {
     "data": {
      "text/plain": [
       "'ข้อ  2 . ระดับโทษทางวินัยและวินัยซึ่งพนักงานจะต้องรักษามีดังนี้  \\n2 .1  ระดับโทษทางวินัยแบ่งเป็น 4 ระดับจากโทษเบาไปหาโทษหนักคือ  \\n   2 .1.1  ตักเตือนด้วยวาจา  \\n 2 .1.2  ตักเตือนเป็นหนังสือ  \\n 2 .1.3  ตัดเงินรางวัลพิเศษประจาปี  \\n 2 .1.4  เลิกจ้าง  \\n2.2 วินัยซึ่งพนักงานจะต้องรักษาและระดับโทษสาหรับพนักงานที่ฝ่าฝืนวินัย  \\nวินัยระดับโทษ  \\n2 .2.1   ต้องปฏิบัติตามข้อบังคับระเบียบคาสั่งและประกาศของบริษัทฯตั้งแต่ตักเตือนด้วยวาจาจนถึงเลิกจ้าง  \\n2 .2.2   ต้องเชื่อฟังและปฏิบัติตามคาสั่งโดยชอบของผู้บังคับบัญชาตั้งแต่ตักเตือนเป็นหนังสือจนถึงตัด\\nเงินรางวัลพิเศษประจาปี  \\n2 .2.3   ต้องปฏิบัติงานด้วยความซื่อสัตย์สุจริตอุตสาหะและตรงต่อเวลาตั้งแต่ตักเตือนด้วยวาจาจนถึงเลิกจ้าง  \\n2 .2.4   ต้องควบคุมดูแลพนักงานใต้บังคับบัญชาให้ปฏิบัติตามวินัยโดยตั้งแต่ตักเตือนเป็นหนังสือจนถึงตัด-15- \\n \\n วินัยระดับโทษ  \\n          เคร่งครัดถ้ารู้ว่าพนักงานผู้ใดกระทาความผิดแล้วไม่รายงานให้  \\n          ผู้บังคับบัญชาเหนือชั้นขึ้นไปทราบถือว่าผู้บังคับบัญชานั้นกระทา    \\n          ผิดวินัยด้วยเงินรางวัลพิเศษประจาปี  \\n2 .2.5   ต้องแต่งเครื่องแบบตามที่บริษัทฯกาหนดให้และติดบัตร  \\n          ประจาตัวของพนักงานตลอดเวลาที่อยู่ในบริษัทฯตั้งแต่ตักเตือนด้วยวาจาจนถึงตัดเงิน\\nรางวัลพิเศษประจาปี   \\n2 .2.6   ต้องใช้และรักษาทรัพย์สินของบริษัทฯด้วยความระมัดระวัง  \\n          ไม่ให้เสียหายหรือสูญหายและจะนาทรัพย์สินของบริษัทฯ  \\n          ออกไปนอกสถานที่ของบริษัทฯไม่ได้เว้นแต่จะได้รับอนุมัติจาก    \\n          กรรมการผู้จัดการใหญ่หรือผู้ซึ่งได้รับมอบหมายตั้งแต่ตักเตือนด้วยวาจาจนถึงตัดเงิน\\nรางวัลพิเศษประจาปี  \\n2 .2.7   ต้องส่งคืนทรัพย์สินของบริษัทฯให้แก่บริษัทฯผ่านผู้บังคับบัญชา  \\n          ก่อนการสิ้นสุดการจ้างตั้งแต่ตักเตือนด้วยวาจาจนถึงตัดเงิน\\nรางวัลพิเศษประจาปี  \\n2 .2.8   ต้องรักษาความลับของบริษัทฯโดยเคร่งครัดไม่แม้แต่ปรึกษา\\nปัญหาภายในบริษัทฯกับบุคคลในครอบครัวตั้งแต่ตักเตือนเป็นหนังสือจนถึง  \\nเลิกจ้างและบันทึกชื่อในบัญชีดา \\n \\nวินัยระดับโทษ  \\n2 .2.9   ต้องไม่ใช้อานาจหน้าที่ในทางทุจริตเพื่อแสวงหาประโยชน์โดย  \\n          มิชอบเพื่อตนเองหรือผู้อื่นตั้งแต่ตักเตือนเป็นหนังสือจนถึง  \\nเลิกจ้าง  \\n2 .2.1 0   ต้องไม่ปฏิบัติงานข้ามขั้นผู้บังคับบัญชาเหนือตนเว้นแต่กรณี  \\n            เร่งด่วนโดยได้รับคาสั่งจากผู้บังคับบัญชาชั้นสูงกว่าและให้    \\n            รายงานผู้บังคับบัญชาเหนือตนทราบโดยเร็วตั้งแต่ตักเตือนด้วยวาจาจนถึงตัดเงิน\\nรางวัลพิเศษประจาปี  \\n2 .2.1 1   ต้องไม่ปฏิบัติงานก้าวก่ายการทางานของผู้อื่นจนเป็นเหตุให้เกิด  \\n            ความเสียหายต่อบริษัทฯหรือพนักงานด้วยกันหรือ  \\n            บุคคลภายนอกตั้งแต่ตักเตือนด้วยวาจาจนถึงตัดเงิน\\nรางวัลพิเศษประจาปี  \\n2 .2.1 2   ต้องไม่รายงานเท็จต่อผู้บังคับบัญชาตั้งแต่ตักเตือนเป็นหนังสือจนถึงตัด\\nเงินรางวัลพิเศษประจาปี   \\n2 .2.1 3   ต้องไม่ขาดงานหรือละทิ้งหน้าที่โดยไม่มีเหตุผลอันสมควรตั้งแต่ตักเตือนด้วยวาจาจนถึงเลิกจ้าง  \\n2 .2.1 4   ต้องไม่บันทึกเวลามาทางานและเวลากลับแทนกันตั้งแต่ตักเตือนเป็นหนังสือจนถึง -16- \\n \\n วินัยระดับโทษ  \\nเลิกจ้าง  \\n2 .2.1 5   ต้องไม่ก่อการวิวาทหรือแสดงกิริยาวาจาไม่สุภาพตั้งแต่ตักเตือนด้วยวาจาจนถึงตัดเงิน\\nรางวัลพิเศษประจาปี   \\n2 .2.1 6   ต้องไม่ยุยงส่งเสริมบ่อนทาลายหรือปลุกระดมมวลชนอันเป็น   \\n            การผิดกฎหมายและก่อให้เกิความเสียหายต่อบริษัทฯตั้งแต่ตักเตือนเป็นหนังสือจนถึง  \\nเลิกจ้าง  \\n2 .2.1 7   ต้องไม่พกพาอาวุธหรือสิ่งผิดกฎหมายเข้ามาในบริษัทฯตั้งแต่ตักเตือนเป็นหนังสือจนถึง  \\nเลิกจ้าง  \\n2 .2.1 8   ต้องไม่เล่นการพนันหรือชักชวนบุคคลภายนอกมาเล่นการพนัน  \\n            ในสถานที่ของบริษัทฯตั้งแต่ตักเตือนด้วยวาจาจนถึงเลิกจ้าง  \\n2 .2.1 9   ต้องไม่ดื่มสุราหรือเสพของมึนเมาหรืออยู่ในอาการมึนเมาใน  \\n            สถานที่ปฏิบัติงานเว้นแต่เพื่อการรับรองหรืองานรื่นเริงของ   \\n            บริษัทฯตั้งแต่ตักเตือนด้วยวาจาจนถึงตัดเงิน\\nรางวัลพิเศษประจาปี   \\n \\nกรณีพนักงานฝ่าฝืนวินัยตั้งแต่สามข้อขึ้นไปการลงโทษทางวินัยจะถูกพิจารณาลงโทษในข้อที่มีระดับโทษ\\nหนักที่สุด'"
      ]
     },
     "execution_count": 96,
     "metadata": {},
     "output_type": "execute_result"
    }
   ],
   "source": [
    "part_2"
   ]
  },
  {
   "cell_type": "code",
   "execution_count": 101,
   "metadata": {},
   "outputs": [],
   "source": [
    "pd.DataFrame(data).to_csv(\"test.csv\")"
   ]
  },
  {
   "cell_type": "code",
   "execution_count": 98,
   "metadata": {},
   "outputs": [
    {
     "data": {
      "text/plain": [
       "'ข้อ  1 . พนักงานทุกคนต้องรักษาไว้ซึ่งวินัยของบริษัทฯโดยเคร่งครัดข้อ  3 . อานาจหน้าที่ในการลงโทษทางวินัย  \\n            ให้ผู้บังคับบัญชาตามสายงานมีสิทธิและอานาจหน้าที่ในการลงโทษทางวินัยดังนี้\\n action to authorer pair: \\n ระดับโทษทางวินัย: ตักเตือนด้วยวาจา - ผู้มีอ านาจหน้าที่ลงโทษ: ผู้บังคับบัญชาโดยตรงตั้งแต่ระดับผู้จัดการส่วนขึ้นไป\\n\\n action to authorer pair: \\n ระดับโทษทางวินัย: ตักเตือนเป็นหนังสือ - ผู้มีอ านาจหน้าที่ลงโทษ: ผู้บังคับบัญชาโดยตรงตั้งแต่ระดับผู้อานวยการฝ่ายขึ้นไป\\n\\n action to authore'"
      ]
     },
     "execution_count": 98,
     "metadata": {},
     "output_type": "execute_result"
    }
   ],
   "source": [
    "pd.DataFrame(data).iloc[8][2]"
   ]
  },
  {
   "cell_type": "code",
   "execution_count": null,
   "metadata": {},
   "outputs": [],
   "source": []
  }
 ],
 "metadata": {
  "kernelspec": {
   "display_name": "dhipaya",
   "language": "python",
   "name": "python3"
  },
  "language_info": {
   "codemirror_mode": {
    "name": "ipython",
    "version": 3
   },
   "file_extension": ".py",
   "mimetype": "text/x-python",
   "name": "python",
   "nbconvert_exporter": "python",
   "pygments_lexer": "ipython3",
   "version": "3.11.5"
  }
 },
 "nbformat": 4,
 "nbformat_minor": 2
}
